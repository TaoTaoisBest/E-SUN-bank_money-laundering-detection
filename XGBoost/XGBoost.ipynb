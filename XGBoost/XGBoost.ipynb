{
  "cells": [
    {
      "cell_type": "markdown",
      "metadata": {
        "id": "qfJ-634MTThq"
      },
      "source": [
        "# For Google Drive"
      ]
    },
    {
      "cell_type": "code",
      "execution_count": 1,
      "metadata": {
        "colab": {
          "base_uri": "https://localhost:8080/"
        },
        "id": "x-_yfyqfTGL0",
        "outputId": "ad22cd37-7589-4601-89d0-648bfad7afe1"
      },
      "outputs": [
        {
          "name": "stdout",
          "output_type": "stream",
          "text": [
            "Mounted at /content/gdrive\n"
          ]
        }
      ],
      "source": [
        "# from google.colab import drive\n",
        "# drive.mount('/content/gdrive')"
      ]
    },
    {
      "cell_type": "markdown",
      "metadata": {
        "id": "lQB7dLcd4Shf"
      },
      "source": [
        "# Import Packages :"
      ]
    },
    {
      "cell_type": "code",
      "execution_count": 2,
      "metadata": {
        "id": "QkYkoNZBPOUe"
      },
      "outputs": [
        {
          "name": "stderr",
          "output_type": "stream",
          "text": [
            "C:\\Users\\alex2\\AppData\\Local\\Packages\\PythonSoftwareFoundation.Python.3.10_qbz5n2kfra8p0\\LocalCache\\local-packages\\Python310\\site-packages\\tqdm\\auto.py:22: TqdmWarning: IProgress not found. Please update jupyter and ipywidgets. See https://ipywidgets.readthedocs.io/en/stable/user_install.html\n",
            "  from .autonotebook import tqdm as notebook_tqdm\n"
          ]
        }
      ],
      "source": [
        "# basic stuffs\n",
        "import csv\n",
        "import time\n",
        "import sys\n",
        "import os\n",
        "import math\n",
        "import random as rand\n",
        "from typing import Dict\n",
        "\n",
        "# other library\n",
        "import numpy as np\n",
        "import pandas as pd\n",
        "\n",
        "# visualization tools\n",
        "import tqdm\n",
        "import matplotlib.pyplot as plt\n",
        "\n",
        "# PyTorch library\n",
        "import torch\n",
        "import torch.nn as nn\n",
        "import torch.optim as optim\n",
        "import torch.nn.functional as F\n",
        "from torch.utils import data \n",
        "from torch.utils.data import Dataset, DataLoader"
      ]
    },
    {
      "cell_type": "markdown",
      "metadata": {
        "id": "DrhD1L5pIDwM"
      },
      "source": [
        "# Fix Randomization Seed :"
      ]
    },
    {
      "cell_type": "code",
      "execution_count": 3,
      "metadata": {
        "id": "wt4o2839PzQO"
      },
      "outputs": [],
      "source": [
        "SEED = 42 # Do not modify\n",
        "use_gpu = torch.cuda.is_available()\n",
        "device = torch.device(\"cuda\" if use_gpu else \"cpu\")\n",
        "\n",
        "torch.backends.cudnn.deterministic = True\n",
        "torch.backends.cudnn.benchmark = False\n",
        "torch.manual_seed(SEED)\n",
        "torch.cuda.manual_seed_all(SEED)\n",
        "rand.seed(SEED)\n",
        "np.random.seed(SEED)"
      ]
    },
    {
      "cell_type": "markdown",
      "metadata": {
        "id": "JWdfr4FIINxK"
      },
      "source": [
        "#Parameters :"
      ]
    },
    {
      "cell_type": "code",
      "execution_count": 4,
      "metadata": {
        "id": "iarwZrESAajW"
      },
      "outputs": [],
      "source": [
        "TIME_FRAME_SIZE = 5\n",
        "\n",
        "#setting\n",
        "pd.set_option('precision', 4)\n",
        "pd.set_option(\"display.max_columns\",100)"
      ]
    },
    {
      "cell_type": "markdown",
      "metadata": {
        "id": "LXyQQ8aA4LHy"
      },
      "source": [
        "# load data from google cloud :"
      ]
    },
    {
      "cell_type": "code",
      "execution_count": 3,
      "metadata": {
        "id": "yd_5pp0d1ZA3"
      },
      "outputs": [],
      "source": [
        "# Youchen datapath\n",
        "\n",
        "# ccba = pd.read_csv('/content/gdrive/MyDrive/Fintech_final/ccba.csv')\n",
        "# custinfo = pd.read_csv('/content/gdrive/MyDrive/Fintech_final/custinfo.csv')\n",
        "\n",
        "# cdtx = pd.read_csv('/content/gdrive/MyDrive/Fintech_final/cdtx.csv')\n",
        "# dp = pd.read_csv('/content/gdrive/MyDrive/Fintech_final/dp.csv')\n",
        "# remit1 = pd.read_csv('/content/gdrive/MyDrive/Fintech_final/remit.csv')\n",
        "\n",
        "train_alert_date = pd.read_csv('../Preprocessing/dataset/train_x_alert_date.csv')\n",
        "y = pd.read_csv('../Preprocessing/dataset/train_y_answer.csv')\n",
        "\n",
        "training_data = pd.read_csv('./training_data_complete_5.csv')\n",
        "training_label = pd.read_csv('./training_data_labels_5.csv')\n",
        "\n",
        "testing_data = pd.read_csv('./testing_data_complete_5.csv')\n",
        "testing_key = pd.read_csv('./testing_alert_key_5.csv')\n",
        "# testing_ans = pd.read_csv('/content/gdrive/MyDrive/Fintech_final/public_y_answer.csv')\n",
        "\n",
        "sample_output = pd.read_csv('../Preprocessing/dataset/sample_output.csv')\n",
        "\n",
        "# testing_key = pd.merge(testing_key, testing_ans)"
      ]
    },
    {
      "cell_type": "code",
      "execution_count": 105,
      "metadata": {
        "colab": {
          "base_uri": "https://localhost:8080/",
          "height": 0
        },
        "id": "Fw1FfnbzvUa9",
        "outputId": "686b2a2b-e96b-476a-9796-cd8a03da4468"
      },
      "outputs": [
        {
          "data": {
            "text/html": [
              "\n",
              "  <div id=\"df-44b61c5e-1237-4e2c-acb4-7df0d1ba341f\">\n",
              "    <div class=\"colab-df-container\">\n",
              "      <div>\n",
              "<style scoped>\n",
              "    .dataframe tbody tr th:only-of-type {\n",
              "        vertical-align: middle;\n",
              "    }\n",
              "\n",
              "    .dataframe tbody tr th {\n",
              "        vertical-align: top;\n",
              "    }\n",
              "\n",
              "    .dataframe thead th {\n",
              "        text-align: right;\n",
              "    }\n",
              "</style>\n",
              "<table border=\"1\" class=\"dataframe\">\n",
              "  <thead>\n",
              "    <tr style=\"text-align: right;\">\n",
              "      <th></th>\n",
              "      <th>Unnamed: 0</th>\n",
              "      <th>alert_key</th>\n",
              "      <th>sar_flag</th>\n",
              "    </tr>\n",
              "  </thead>\n",
              "  <tbody>\n",
              "    <tr>\n",
              "      <th>0</th>\n",
              "      <td>0</td>\n",
              "      <td>352342</td>\n",
              "      <td>0</td>\n",
              "    </tr>\n",
              "    <tr>\n",
              "      <th>1</th>\n",
              "      <td>1</td>\n",
              "      <td>352866</td>\n",
              "      <td>0</td>\n",
              "    </tr>\n",
              "    <tr>\n",
              "      <th>2</th>\n",
              "      <td>2</td>\n",
              "      <td>352696</td>\n",
              "      <td>0</td>\n",
              "    </tr>\n",
              "    <tr>\n",
              "      <th>3</th>\n",
              "      <td>3</td>\n",
              "      <td>352330</td>\n",
              "      <td>0</td>\n",
              "    </tr>\n",
              "    <tr>\n",
              "      <th>4</th>\n",
              "      <td>4</td>\n",
              "      <td>352683</td>\n",
              "      <td>0</td>\n",
              "    </tr>\n",
              "  </tbody>\n",
              "</table>\n",
              "</div>\n",
              "      <button class=\"colab-df-convert\" onclick=\"convertToInteractive('df-44b61c5e-1237-4e2c-acb4-7df0d1ba341f')\"\n",
              "              title=\"Convert this dataframe to an interactive table.\"\n",
              "              style=\"display:none;\">\n",
              "        \n",
              "  <svg xmlns=\"http://www.w3.org/2000/svg\" height=\"24px\"viewBox=\"0 0 24 24\"\n",
              "       width=\"24px\">\n",
              "    <path d=\"M0 0h24v24H0V0z\" fill=\"none\"/>\n",
              "    <path d=\"M18.56 5.44l.94 2.06.94-2.06 2.06-.94-2.06-.94-.94-2.06-.94 2.06-2.06.94zm-11 1L8.5 8.5l.94-2.06 2.06-.94-2.06-.94L8.5 2.5l-.94 2.06-2.06.94zm10 10l.94 2.06.94-2.06 2.06-.94-2.06-.94-.94-2.06-.94 2.06-2.06.94z\"/><path d=\"M17.41 7.96l-1.37-1.37c-.4-.4-.92-.59-1.43-.59-.52 0-1.04.2-1.43.59L10.3 9.45l-7.72 7.72c-.78.78-.78 2.05 0 2.83L4 21.41c.39.39.9.59 1.41.59.51 0 1.02-.2 1.41-.59l7.78-7.78 2.81-2.81c.8-.78.8-2.07 0-2.86zM5.41 20L4 18.59l7.72-7.72 1.47 1.35L5.41 20z\"/>\n",
              "  </svg>\n",
              "      </button>\n",
              "      \n",
              "  <style>\n",
              "    .colab-df-container {\n",
              "      display:flex;\n",
              "      flex-wrap:wrap;\n",
              "      gap: 12px;\n",
              "    }\n",
              "\n",
              "    .colab-df-convert {\n",
              "      background-color: #E8F0FE;\n",
              "      border: none;\n",
              "      border-radius: 50%;\n",
              "      cursor: pointer;\n",
              "      display: none;\n",
              "      fill: #1967D2;\n",
              "      height: 32px;\n",
              "      padding: 0 0 0 0;\n",
              "      width: 32px;\n",
              "    }\n",
              "\n",
              "    .colab-df-convert:hover {\n",
              "      background-color: #E2EBFA;\n",
              "      box-shadow: 0px 1px 2px rgba(60, 64, 67, 0.3), 0px 1px 3px 1px rgba(60, 64, 67, 0.15);\n",
              "      fill: #174EA6;\n",
              "    }\n",
              "\n",
              "    [theme=dark] .colab-df-convert {\n",
              "      background-color: #3B4455;\n",
              "      fill: #D2E3FC;\n",
              "    }\n",
              "\n",
              "    [theme=dark] .colab-df-convert:hover {\n",
              "      background-color: #434B5C;\n",
              "      box-shadow: 0px 1px 3px 1px rgba(0, 0, 0, 0.15);\n",
              "      filter: drop-shadow(0px 1px 2px rgba(0, 0, 0, 0.3));\n",
              "      fill: #FFFFFF;\n",
              "    }\n",
              "  </style>\n",
              "\n",
              "      <script>\n",
              "        const buttonEl =\n",
              "          document.querySelector('#df-44b61c5e-1237-4e2c-acb4-7df0d1ba341f button.colab-df-convert');\n",
              "        buttonEl.style.display =\n",
              "          google.colab.kernel.accessAllowed ? 'block' : 'none';\n",
              "\n",
              "        async function convertToInteractive(key) {\n",
              "          const element = document.querySelector('#df-44b61c5e-1237-4e2c-acb4-7df0d1ba341f');\n",
              "          const dataTable =\n",
              "            await google.colab.kernel.invokeFunction('convertToInteractive',\n",
              "                                                     [key], {});\n",
              "          if (!dataTable) return;\n",
              "\n",
              "          const docLinkHtml = 'Like what you see? Visit the ' +\n",
              "            '<a target=\"_blank\" href=https://colab.research.google.com/notebooks/data_table.ipynb>data table notebook</a>'\n",
              "            + ' to learn more about interactive tables.';\n",
              "          element.innerHTML = '';\n",
              "          dataTable['output_type'] = 'display_data';\n",
              "          await google.colab.output.renderOutput(dataTable, element);\n",
              "          const docLink = document.createElement('div');\n",
              "          docLink.innerHTML = docLinkHtml;\n",
              "          element.appendChild(docLink);\n",
              "        }\n",
              "      </script>\n",
              "    </div>\n",
              "  </div>\n",
              "  "
            ],
            "text/plain": [
              "   Unnamed: 0  alert_key  sar_flag\n",
              "0           0     352342         0\n",
              "1           1     352866         0\n",
              "2           2     352696         0\n",
              "3           3     352330         0\n",
              "4           4     352683         0"
            ]
          },
          "execution_count": 105,
          "metadata": {},
          "output_type": "execute_result"
        }
      ],
      "source": [
        "testing_key.head()"
      ]
    },
    {
      "cell_type": "markdown",
      "metadata": {
        "id": "VphSoFGT6mOp"
      },
      "source": [
        "# Perform Onehot Pooling "
      ]
    },
    {
      "cell_type": "code",
      "execution_count": 106,
      "metadata": {
        "id": "tHLcW2qbQM4M"
      },
      "outputs": [],
      "source": [
        "# Drop columns\n",
        "drop_cols = ['Unnamed: 0', \n",
        "      'remit_transtime_diff_1',\n",
        "      'remit_transtime_diff_2',\n",
        "      'remit_transtime_diff_3',\n",
        "      'remit_transtime_diff_4',\n",
        "      'remit_transtime_diff_5',\n",
        "      'remit_transtime_avg'\n",
        "      ]\n",
        "      \n",
        "train = training_data.drop(columns=drop_cols)\n",
        "test = testing_data.drop(columns=drop_cols)\n",
        "\n",
        "train_label = training_label.drop(columns='Unnamed: 0')\n",
        "test_keys = testing_key.drop(columns='Unnamed: 0')"
      ]
    },
    {
      "cell_type": "code",
      "execution_count": 107,
      "metadata": {
        "id": "BqpJpwxPTtBY"
      },
      "outputs": [],
      "source": [
        "# Determine categorical column names\n",
        "cat_cols = ['occupation_code',\n",
        "       'cur_type_1', 'country_1', \n",
        "       'cur_type_2', 'country_2', \n",
        "       'cur_type_3', 'country_3', \n",
        "       'cur_type_4', 'country_4', \n",
        "       'cur_type_5', 'country_5', \n",
        "       'debit_credit_1', 'tx_type_1', 'info_asset_code_1', 'fiscTxId_1', 'cross_bank_1', 'ATM_1', 'txbranch_1', \n",
        "       'debit_credit_2', 'tx_type_2', 'info_asset_code_2', 'fiscTxId_2', 'cross_bank_2', 'ATM_2', 'txbranch_2', \n",
        "       'debit_credit_3', 'tx_type_3', 'info_asset_code_3', 'fiscTxId_3', 'cross_bank_3', 'ATM_3', 'txbranch_3', \n",
        "       'debit_credit_4', 'tx_type_4', 'info_asset_code_4', 'fiscTxId_4', 'cross_bank_4', 'ATM_4', 'txbranch_4', \n",
        "       'debit_credit_5', 'tx_type_5', 'info_asset_code_5', 'fiscTxId_5', 'cross_bank_5', 'ATM_5', 'txbranch_5', \n",
        "       'trans_no_1', 'trans_no_2', 'trans_no_3', 'trans_no_4', 'trans_no_5'\n",
        "       ]\n",
        "\n",
        "# Determine pooling column names\n",
        "pool_cols = ['cur_type', 'debit_credit', 'tx_type', 'info_asset_code', 'txbranch', 'country', \n",
        "        'fiscTxId', 'cross_bank', 'ATM', 'trans_no']"
      ]
    },
    {
      "cell_type": "code",
      "execution_count": 108,
      "metadata": {
        "id": "iZpR3-uwVsS7"
      },
      "outputs": [],
      "source": [
        "# Get train/test onehot\n",
        "train[cat_cols] = train[cat_cols].astype(int)\n",
        "train_onehot = pd.get_dummies(train, columns=cat_cols)\n",
        "\n",
        "test[cat_cols] = test[cat_cols].astype(int)\n",
        "test_onehot = pd.get_dummies(test, columns=cat_cols)"
      ]
    },
    {
      "cell_type": "code",
      "execution_count": null,
      "metadata": {
        "id": "dAewYy_qXhGB"
      },
      "outputs": [],
      "source": [
        "# Get existing onehot keys -> count\n",
        "#  'debit_credit': [0, 1],\n",
        "#  'tx_type': [1, 2, 3]\n",
        "count = {}\n",
        "for pool in pool_cols:\n",
        "  first = True\n",
        "  for c in train.columns:\n",
        "    if pool in c:\n",
        "      index = train[c].value_counts().index\n",
        "      if first:\n",
        "        count[pool] = []\n",
        "        for i in range(len(index)):\n",
        "          count[pool].append(index[i])\n",
        "        first = False\n",
        "      else:\n",
        "        for i in range(len(index)):\n",
        "          if index[i] not in count[pool]:\n",
        "            count[pool].append(index[i])\n",
        "  count[pool] = sorted(count[pool])\n",
        "count"
      ]
    },
    {
      "cell_type": "code",
      "execution_count": 110,
      "metadata": {
        "id": "rxyCnjBwTP3t"
      },
      "outputs": [],
      "source": [
        "# Training set Pooling\n",
        "train_col_names = []\n",
        "train_col_datas = []\n",
        "for key in count.keys():\n",
        "  for value in count[key]:\n",
        "    temp = None\n",
        "    temp_name = key+'_'+str(value)\n",
        "    for i in range(1, 6):\n",
        "      col_name = key+'_'+str(i)+'_'+str(value)\n",
        "      # if col_name not in train_onehot.columns:\n",
        "      #   continue\n",
        "      try:\n",
        "        if temp is None:\n",
        "          temp = train_onehot[col_name].copy()\n",
        "        else:\n",
        "          temp += train_onehot[col_name].copy()\n",
        "      except:\n",
        "        pass\n",
        "    if temp is not None:\n",
        "      train_col_datas.append(temp.to_numpy())\n",
        "    else:\n",
        "      train_col_datas.append(np.zeros(len(test)))\n",
        "    train_col_names.append(temp_name)\n",
        "\n",
        "# temp.to_numpy()\n",
        "# temp_name"
      ]
    },
    {
      "cell_type": "code",
      "execution_count": 111,
      "metadata": {
        "id": "NHOKnZWkztT0"
      },
      "outputs": [],
      "source": [
        "# Testing set Pooling\n",
        "test_col_names = []\n",
        "test_col_datas = []\n",
        "for key in count.keys():\n",
        "  for value in count[key]:\n",
        "    temp = None\n",
        "    temp_name = key+'_'+str(value)\n",
        "    for i in range(1, 6):\n",
        "      col_name = key+'_'+str(i)+'_'+str(value)\n",
        "      # if col_name not in train_onehot.columns:\n",
        "      #   continue\n",
        "      try:\n",
        "        if temp is None:\n",
        "          temp = test_onehot[col_name].copy()\n",
        "        else:\n",
        "          temp += test_onehot[col_name].copy()\n",
        "      except:\n",
        "        pass\n",
        "    if temp is not None:\n",
        "      test_col_datas.append(temp.to_numpy())\n",
        "    else:\n",
        "      test_col_datas.append(np.zeros(len(test)).astype(int))\n",
        "    test_col_names.append(temp_name)"
      ]
    },
    {
      "cell_type": "code",
      "execution_count": 112,
      "metadata": {
        "id": "0HjF-a0As6q8"
      },
      "outputs": [],
      "source": [
        "# Categorical features\n",
        "all_cat = pd.DataFrame(np.array(train_col_datas).T, columns=train_col_names)\n",
        "test_cat = pd.DataFrame(np.array(test_col_datas).T, columns=test_col_names)\n",
        "\n",
        "# Numerical features\n",
        "all_num = train.drop(columns=cat_cols)\n",
        "test_num = test.drop(columns=cat_cols)\n",
        "\n",
        "# To ensure same dim when rerunning\n",
        "all_label = training_label.drop(columns='Unnamed: 0')\n",
        "\n",
        "# Train/val split\n",
        "from sklearn.model_selection import train_test_split\n",
        "train_cat, val_cat, train_num, val_num, train_label, val_label \\\n",
        "      = train_test_split(all_cat, all_num, all_label, test_size=0.2, random_state=42)"
      ]
    },
    {
      "cell_type": "code",
      "execution_count": 113,
      "metadata": {
        "id": "ph_7FGTO1zsH"
      },
      "outputs": [],
      "source": [
        "# Normalization of numerical feats\n",
        "def normalize(X, preMax=None, preMin=None, is_train=True):\n",
        "  if is_train:\n",
        "    Max = X.max()\n",
        "    Min = X.min()\n",
        "    X_norm = (X - Min) / (Max - Min)\n",
        "    \n",
        "    return X_norm, Max, Min\n",
        "  else:\n",
        "    X_norm = (X - preMin) / (preMax - preMin)\n",
        "    \n",
        "    return X_norm, preMax, preMin\n",
        "\n",
        "train_num_norm, train_max, train_min = normalize(train_num, is_train=True)\n",
        "val_num_norm, _, _ = normalize(val_num, preMax=train_max, preMin = train_min, is_train=False)\n",
        "test_num_norm, _, _ = normalize(test_num, preMax=train_max, preMin = train_min, is_train=False)\n",
        "\n",
        "all_num_norm, _, _ = normalize(all_num, is_train=True)"
      ]
    },
    {
      "cell_type": "code",
      "execution_count": 114,
      "metadata": {
        "id": "AjQ6sG1g5ijU"
      },
      "outputs": [],
      "source": [
        "train_set = pd.merge(train_cat.reset_index(), train_num_norm.reset_index()).drop(columns='index')\n",
        "val_set = pd.merge(val_cat.reset_index(), val_num_norm.reset_index()).drop(columns='index')\n",
        "test_set = pd.merge(test_cat.reset_index(), test_num_norm.reset_index()).drop(columns='index')\n",
        "\n",
        "all_set = pd.merge(all_cat.reset_index(), all_num_norm.reset_index()).drop(columns='index')"
      ]
    },
    {
      "cell_type": "markdown",
      "metadata": {
        "id": "2k2BpcuGLaIg"
      },
      "source": [
        "# Resampling"
      ]
    },
    {
      "cell_type": "code",
      "execution_count": null,
      "metadata": {
        "colab": {
          "base_uri": "https://localhost:8080/"
        },
        "id": "fVdw-m3HLZg8",
        "outputId": "f699b884-3cd8-4af9-81d0-c74d40371610"
      },
      "outputs": [
        {
          "data": {
            "text/plain": [
              "0.0    18898\n",
              "1.0      226\n",
              "Name: labels, dtype: int64"
            ]
          },
          "execution_count": 182,
          "metadata": {},
          "output_type": "execute_result"
        }
      ],
      "source": [
        "train_x_y = pd.concat([train, train_label], axis=1)\n",
        "train_x_y['labels'].value_counts()"
      ]
    },
    {
      "cell_type": "code",
      "execution_count": null,
      "metadata": {
        "id": "i45Kk_fDNez_"
      },
      "outputs": [],
      "source": [
        "from sklearn.utils import resample\n",
        "\n",
        "def resampling(data, y_col, ratio='100_100'):\n",
        "  ##################################################\n",
        "  #  data: target DataFrame          #\n",
        "  #  y_col: the name of y column     　#\n",
        "  #  ratio: expected ratio of two classes .#\n",
        "  ##################################################\n",
        "  # String process\n",
        "  [ratio_0, ratio_1] = ratio.split('_')\n",
        "  ratio_0, ratio_1 = int(ratio_0), int(ratio_1)\n",
        "  num_0, num_1 = data[y_col].value_counts()\n",
        "  \n",
        "  # Initialization\n",
        "  n_samples = [0, 0]\n",
        "  group = {}\n",
        "\n",
        "  # Num of samples of class 0/1\n",
        "  # (Switch n_samples values if minor class is 0)\n",
        "  max_n = max(num_0, num_1)    # Bigger number of sample\n",
        "  seg = max_n // 100       # Cut this number into 100 pieces\n",
        "  n_samples[0] = num_0 if ratio_0 == 100 \\\n",
        "              else seg * ratio_0  # Use all samples if ratio_0 == 100, downsample if not\n",
        "  n_samples[1] = seg * ratio_1  # Oversampling of minor class\n",
        "  \n",
        "  # Resample\n",
        "  for i in [0, 1]:\n",
        "    g = data[data[y_col] == i]\n",
        "    group[str(i)] = resample(g, replace=True, n_samples=n_samples[i])\n",
        "\n",
        "  # Concat two class into a DataFrame\n",
        "  # (Shuffle as you wish)\n",
        "  up = pd.concat(group.values())\n",
        "\n",
        "  return up"
      ]
    },
    {
      "cell_type": "markdown",
      "metadata": {
        "id": "t4I6RD7mnx3l"
      },
      "source": [
        "# XGBoost"
      ]
    },
    {
      "cell_type": "markdown",
      "metadata": {
        "id": "TdrXBLgrRUE0"
      },
      "source": [
        "## Data"
      ]
    },
    {
      "cell_type": "code",
      "execution_count": null,
      "metadata": {
        "id": "JufOYZ3CQLjV"
      },
      "outputs": [],
      "source": [
        "# upsampled_data = resampling(train_set, 'labels', ratio='70_50')\n",
        "# upsampled_data['labels'].value_counts()"
      ]
    },
    {
      "cell_type": "code",
      "execution_count": 16,
      "metadata": {
        "colab": {
          "base_uri": "https://localhost:8080/"
        },
        "id": "CtNsQ5XABWI6",
        "outputId": "e86a1916-31a9-4b60-8442-f0c98ad2996b"
      },
      "outputs": [
        {
          "name": "stdout",
          "output_type": "stream",
          "text": [
            "Looking in indexes: https://pypi.org/simple, https://us-python.pkg.dev/colab-wheels/public/simple/\n",
            "Collecting xgboost==1.7.2\n",
            "  Downloading xgboost-1.7.2-py3-none-manylinux2014_x86_64.whl (193.6 MB)\n",
            "\u001b[K     |████████████████████████████████| 193.6 MB 80 kB/s \n",
            "\u001b[?25hRequirement already satisfied: numpy in /usr/local/lib/python3.8/dist-packages (from xgboost==1.7.2) (1.21.6)\n",
            "Requirement already satisfied: scipy in /usr/local/lib/python3.8/dist-packages (from xgboost==1.7.2) (1.7.3)\n",
            "Installing collected packages: xgboost\n",
            "  Attempting uninstall: xgboost\n",
            "    Found existing installation: xgboost 0.90\n",
            "    Uninstalling xgboost-0.90:\n",
            "      Successfully uninstalled xgboost-0.90\n",
            "Successfully installed xgboost-1.7.2\n"
          ]
        }
      ],
      "source": [
        "!pip install xgboost==1.7.2\n",
        "import xgboost as xgb"
      ]
    },
    {
      "cell_type": "code",
      "execution_count": null,
      "metadata": {
        "id": "QvreEq8M3c31"
      },
      "outputs": [],
      "source": [
        "# Reassign if resampled\n",
        "# train_set = upsampled_data"
      ]
    },
    {
      "cell_type": "code",
      "execution_count": 115,
      "metadata": {
        "id": "HCjiBlDvqexM"
      },
      "outputs": [],
      "source": [
        "train_X, train_y = train_set, train_label\n",
        "val_X, val_y = val_set, val_label\n",
        "\n",
        "all_X, all_y = all_set, all_label"
      ]
    },
    {
      "cell_type": "markdown",
      "metadata": {
        "id": "oTcyYQhr_yZc"
      },
      "source": [
        "## Test Chi2 (NO USE)"
      ]
    },
    {
      "cell_type": "code",
      "execution_count": null,
      "metadata": {
        "id": "DTrkQYpZ_0r0"
      },
      "outputs": [],
      "source": [
        "# from sklearn.feature_selection import SelectKBest\n",
        "# from sklearn.feature_selection import chi2\n",
        "\n",
        "# chi2_selector = SelectKBest(chi2, k=250)\n",
        "# X_kbest = chi2_selector.fit_transform(all_X, all_y)\n",
        "# test_kbest = chi2_selector.transform(test_set)\n",
        "# # print(X_kbest.shape)\n",
        "# # print(chi2_selector.get_feature_names_out())"
      ]
    },
    {
      "cell_type": "markdown",
      "metadata": {
        "id": "lq44hkF9RQiD"
      },
      "source": [
        "## Training"
      ]
    },
    {
      "cell_type": "code",
      "execution_count": 116,
      "metadata": {
        "id": "puAL-5BwRSZz"
      },
      "outputs": [],
      "source": [
        "from sklearn.metrics import recall_score"
      ]
    },
    {
      "cell_type": "code",
      "execution_count": 117,
      "metadata": {
        "id": "TohefFcQsHPD"
      },
      "outputs": [],
      "source": [
        "def recall_n(output, target):\n",
        "\n",
        "  comb = list(zip(output, target))\n",
        "  comb.sort(key=lambda x:x[0])\n",
        "  flag = False\n",
        "  for i, (out, gt) in enumerate(comb):\n",
        "      if gt == 1:\n",
        "          if flag:\n",
        "              break\n",
        "          flag = True\n",
        "  return (sum(target)-1) / (len(target)-i)"
      ]
    },
    {
      "cell_type": "code",
      "execution_count": 139,
      "metadata": {
        "id": "VQpwb4LHTvmQ"
      },
      "outputs": [],
      "source": [
        "# XGBoost grid search\n",
        "params = {\n",
        "        'n_estimators': [400, 600, 800, 1000],\n",
        "        'min_child_weight': [1, 5, 10],\n",
        "        'gamma': [0.5, 1, 1.5, 2, 5],\n",
        "        'subsample': [0.6, 0.8, 1.0],\n",
        "        'colsample_bytree': [0.6, 0.8, 1.0],\n",
        "        'max_depth': [3, 4, 5]\n",
        "        }"
      ]
    },
    {
      "cell_type": "code",
      "execution_count": 142,
      "metadata": {
        "colab": {
          "base_uri": "https://localhost:8080/"
        },
        "id": "SS3uaMBtvYR_",
        "outputId": "015f5510-8848-42cd-e636-7b2a7fe3fd9a"
      },
      "outputs": [
        {
          "name": "stdout",
          "output_type": "stream",
          "text": [
            "========== Trying 1/20 ==========\n",
            "{'n_estimators': 400, 'min_child_weight': 5, 'gamma': 1.5, 'subsample': 1.0, 'colsample_bytree': 1.0, 'max_depth': 5}\n",
            "Val Recall_n = [0.02256532]\n",
            "Test Recall = 0.010526315789473684\n",
            "Updated\n",
            "========== Trying 2/20 ==========\n",
            "{'n_estimators': 800, 'min_child_weight': 10, 'gamma': 1.5, 'subsample': 1.0, 'colsample_bytree': 0.6, 'max_depth': 4}\n",
            "Val Recall_n = [0.01536388]\n",
            "Test Recall = 0.01179245283018868\n",
            "Updated\n",
            "========== Trying 3/20 ==========\n",
            "{'n_estimators': 600, 'min_child_weight': 5, 'gamma': 1.5, 'subsample': 1.0, 'colsample_bytree': 1.0, 'max_depth': 3}\n",
            "Val Recall_n = [0.02583862]\n",
            "Test Recall = 0.011933174224343675\n",
            "Updated\n",
            "========== Trying 4/20 ==========\n",
            "{'n_estimators': 800, 'min_child_weight': 1, 'gamma': 2, 'subsample': 0.8, 'colsample_bytree': 1.0, 'max_depth': 3}\n",
            "Val Recall_n = [0.01751152]\n",
            "Test Recall = 0.012903225806451613\n",
            "Updated\n",
            "========== Trying 5/20 ==========\n",
            "{'n_estimators': 400, 'min_child_weight': 10, 'gamma': 1, 'subsample': 0.8, 'colsample_bytree': 0.6, 'max_depth': 3}\n",
            "Val Recall_n = [0.02439024]\n",
            "Test Recall = 0.016\n",
            "Updated\n",
            "========== Trying 6/20 ==========\n",
            "{'n_estimators': 400, 'min_child_weight': 1, 'gamma': 2, 'subsample': 0.8, 'colsample_bytree': 1.0, 'max_depth': 3}\n",
            "Val Recall_n = [0.01658906]\n",
            "Test Recall = 0.010351966873706004\n",
            "========== Trying 7/20 ==========\n",
            "{'n_estimators': 400, 'min_child_weight': 5, 'gamma': 2, 'subsample': 1.0, 'colsample_bytree': 0.8, 'max_depth': 4}\n",
            "Val Recall_n = [0.02462203]\n",
            "Test Recall = 0.009689922480620155\n",
            "========== Trying 8/20 ==========\n",
            "{'n_estimators': 800, 'min_child_weight': 1, 'gamma': 2, 'subsample': 1.0, 'colsample_bytree': 0.8, 'max_depth': 3}\n",
            "Val Recall_n = [0.02138837]\n",
            "Test Recall = 0.011534025374855825\n",
            "========== Trying 9/20 ==========\n",
            "{'n_estimators': 400, 'min_child_weight': 5, 'gamma': 2, 'subsample': 0.8, 'colsample_bytree': 0.8, 'max_depth': 5}\n",
            "Val Recall_n = [0.01850049]\n",
            "Test Recall = 0.0125\n",
            "========== Trying 10/20 ==========\n",
            "{'n_estimators': 1000, 'min_child_weight': 10, 'gamma': 5, 'subsample': 0.8, 'colsample_bytree': 0.6, 'max_depth': 3}\n",
            "Val Recall_n = [0.02344714]\n",
            "Test Recall = 0.00966183574879227\n",
            "========== Trying 11/20 ==========\n",
            "{'n_estimators': 400, 'min_child_weight': 1, 'gamma': 5, 'subsample': 0.8, 'colsample_bytree': 0.8, 'max_depth': 5}\n",
            "Val Recall_n = [0.02250296]\n",
            "Test Recall = 0.006105006105006105\n",
            "========== Trying 12/20 ==========\n",
            "{'n_estimators': 1000, 'min_child_weight': 5, 'gamma': 1.5, 'subsample': 0.8, 'colsample_bytree': 0.8, 'max_depth': 4}\n",
            "Val Recall_n = [0.01803797]\n",
            "Test Recall = 0.012690355329949238\n",
            "========== Trying 13/20 ==========\n",
            "{'n_estimators': 800, 'min_child_weight': 10, 'gamma': 0.5, 'subsample': 1.0, 'colsample_bytree': 1.0, 'max_depth': 5}\n",
            "Val Recall_n = [0.02151755]\n",
            "Test Recall = 0.020618556701030927\n",
            "Updated\n",
            "========== Trying 14/20 ==========\n",
            "{'n_estimators': 800, 'min_child_weight': 1, 'gamma': 2, 'subsample': 1.0, 'colsample_bytree': 0.8, 'max_depth': 4}\n",
            "Val Recall_n = [0.02542373]\n",
            "Test Recall = 0.011123470522803115\n",
            "========== Trying 15/20 ==========\n",
            "{'n_estimators': 1000, 'min_child_weight': 10, 'gamma': 2, 'subsample': 1.0, 'colsample_bytree': 0.8, 'max_depth': 4}\n",
            "Val Recall_n = [0.02168125]\n",
            "Test Recall = 0.011614401858304297\n",
            "========== Trying 16/20 ==========\n",
            "{'n_estimators': 400, 'min_child_weight': 5, 'gamma': 1.5, 'subsample': 0.8, 'colsample_bytree': 0.6, 'max_depth': 4}\n",
            "Val Recall_n = [0.01886168]\n",
            "Test Recall = 0.01845018450184502\n",
            "========== Trying 17/20 ==========\n",
            "{'n_estimators': 800, 'min_child_weight': 10, 'gamma': 1, 'subsample': 1.0, 'colsample_bytree': 0.6, 'max_depth': 3}\n",
            "Val Recall_n = [0.02109548]\n",
            "Test Recall = 0.010822510822510822\n",
            "========== Trying 18/20 ==========\n",
            "{'n_estimators': 600, 'min_child_weight': 5, 'gamma': 2, 'subsample': 1.0, 'colsample_bytree': 0.6, 'max_depth': 3}\n",
            "Val Recall_n = [0.02485826]\n",
            "Test Recall = 0.010224948875255624\n",
            "========== Trying 19/20 ==========\n",
            "{'n_estimators': 1000, 'min_child_weight': 10, 'gamma': 0.5, 'subsample': 0.8, 'colsample_bytree': 0.8, 'max_depth': 4}\n",
            "Val Recall_n = [0.01538462]\n",
            "Test Recall = 0.0111731843575419\n",
            "========== Trying 20/20 ==========\n",
            "{'n_estimators': 400, 'min_child_weight': 5, 'gamma': 1.5, 'subsample': 1.0, 'colsample_bytree': 0.6, 'max_depth': 5}\n",
            "Val Recall_n = [0.02073481]\n",
            "Test Recall = 0.011933174224343675\n"
          ]
        }
      ],
      "source": [
        "from sklearn.feature_selection import SelectFromModel\n",
        "\n",
        "n_rand = 20\n",
        "best_recall = -1\n",
        "best_model = None\n",
        "best_params = None\n",
        "train_used = train_X\n",
        "val_used = val_X\n",
        "test_used =  test_set\n",
        "\n",
        "# Grid search\n",
        "for i in range(n_rand):\n",
        "  print(f'========== Trying {i+1}/{n_rand} ==========')\n",
        "  # Get random hyps\n",
        "  param_copy = params.copy()\n",
        "  for key in params:\n",
        "    param_copy[key] = params[key][np.random.randint(0, len(params[key]))]\n",
        "  print(param_copy)\n",
        "\n",
        "  # Train XGB\n",
        "  xgbModel = xgb.XGBClassifier(max_delta_step=1, random_state=0)\n",
        "  xgbModel.set_params(**param_copy)\n",
        "  xgbModel.fit(train_used, train_y)\n",
        "\n",
        "  # Validation\n",
        "  val_pred = xgbModel.predict_proba(val_used)\n",
        "  current_recall = recall_n(val_pred[:, 1].reshape(-1, 1), val_y.to_numpy())\n",
        "  print('Val Recall_n =', current_recall)\n",
        "\n",
        "  # Test\n",
        "  test_pred = xgbModel.predict_proba(test_used)\n",
        "  test_recall = recall_n(test_pred[:, 1].reshape(-1, 1), test_keys['sar_flag'].to_numpy())\n",
        "  print('Test Recall =', test_recall)\n",
        "\n",
        "  # Substitution\n",
        "  if test_recall > best_recall:\n",
        "    best_recall = test_recall\n",
        "    best_model = xgbModel\n",
        "    best_params = param_copy\n",
        "    print(\"Updated\")"
      ]
    },
    {
      "cell_type": "code",
      "execution_count": 119,
      "metadata": {
        "colab": {
          "base_uri": "https://localhost:8080/"
        },
        "id": "D4N5rm3_nr7n",
        "outputId": "8fbedff3-e73d-4629-b140-8c712398b125"
      },
      "outputs": [
        {
          "data": {
            "text/plain": [
              "XGBClassifier(base_score=0.5, booster='gbtree', callbacks=None,\n",
              "              colsample_bylevel=1, colsample_bynode=1, colsample_bytree=1,\n",
              "              early_stopping_rounds=None, enable_categorical=False,\n",
              "              eval_metric=None, feature_types=None, gamma=0, gpu_id=-1,\n",
              "              grow_policy='depthwise', importance_type=None,\n",
              "              interaction_constraints='', learning_rate=0.300000012,\n",
              "              max_bin=256, max_cat_threshold=64, max_cat_to_onehot=4,\n",
              "              max_delta_step=1, max_depth=6, max_leaves=0, min_child_weight=1,\n",
              "              missing=nan, monotone_constraints='()', n_estimators=100,\n",
              "              n_jobs=0, num_parallel_tree=1, predictor='auto', random_state=0, ...)"
            ]
          },
          "execution_count": 119,
          "metadata": {},
          "output_type": "execute_result"
        }
      ],
      "source": [
        "xgbModel = xgb.XGBClassifier(max_delta_step=1, random_state=0)\n",
        "# xgbModel.set_params(**param_copy)\n",
        "xgbModel.fit(train_X, train_y)"
      ]
    },
    {
      "cell_type": "code",
      "execution_count": 27,
      "metadata": {
        "colab": {
          "base_uri": "https://localhost:8080/"
        },
        "id": "vHvJ5m9PYib0",
        "outputId": "ebb244da-363c-421f-9d12-a7a84d6689e8"
      },
      "outputs": [
        {
          "data": {
            "text/plain": [
              "XGBClassifier(base_score=0.5, booster='gbtree', callbacks=None,\n",
              "              colsample_bylevel=1, colsample_bynode=1, colsample_bytree=0.6,\n",
              "              early_stopping_rounds=None, enable_categorical=False,\n",
              "              eval_metric=None, feature_types=None, gamma=1, gpu_id=-1,\n",
              "              grow_policy='depthwise', importance_type=None,\n",
              "              interaction_constraints='', learning_rate=0.300000012,\n",
              "              max_bin=256, max_cat_threshold=64, max_cat_to_onehot=4,\n",
              "              max_delta_step=1, max_depth=5, max_leaves=0, min_child_weight=5,\n",
              "              missing=nan, monotone_constraints='()', n_estimators=600,\n",
              "              n_jobs=0, num_parallel_tree=1, predictor='auto', random_state=0, ...)"
            ]
          },
          "execution_count": 27,
          "metadata": {},
          "output_type": "execute_result"
        }
      ],
      "source": [
        "# XGBoost train + val\n",
        "\n",
        "xgbModel = xgb.XGBClassifier(max_delta_step=1, random_state=0)\n",
        "xgbModel.set_params(**{'n_estimators': 600, 'min_child_weight': 5, 'gamma': 1, 'subsample': 0.8, 'colsample_bytree': 0.6, 'max_depth': 5})\n",
        "xgbModel.fit(all_X, all_y)"
      ]
    },
    {
      "cell_type": "code",
      "execution_count": 135,
      "metadata": {
        "colab": {
          "base_uri": "https://localhost:8080/"
        },
        "id": "b5D3XHRL6Gom",
        "outputId": "c861f411-37d9-4c40-83c3-050670468ad4"
      },
      "outputs": [
        {
          "data": {
            "text/plain": [
              "array([352342, 352866, 352696, ..., 364673, 364626, 364986])"
            ]
          },
          "execution_count": 135,
          "metadata": {},
          "output_type": "execute_result"
        }
      ],
      "source": [
        "test_keys['alert_key'].to_numpy()"
      ]
    },
    {
      "cell_type": "code",
      "execution_count": 133,
      "metadata": {
        "colab": {
          "base_uri": "https://localhost:8080/"
        },
        "id": "wCrq_1IkLAGP",
        "outputId": "b993a1d6-9810-4b66-cb67-caa1b88cf7bf"
      },
      "outputs": [
        {
          "data": {
            "text/plain": [
              "0.022935779816513763"
            ]
          },
          "execution_count": 133,
          "metadata": {},
          "output_type": "execute_result"
        }
      ],
      "source": [
        "test_pred = best_model.predict_proba(test_used)\n",
        "test_recall = recall_n(test_pred[:, 1].reshape(-1, 1), test_keys['sar_flag'].to_numpy())\n",
        "test_recall"
      ]
    },
    {
      "cell_type": "code",
      "execution_count": 136,
      "metadata": {
        "colab": {
          "base_uri": "https://localhost:8080/"
        },
        "id": "2DGxOVYpym1i",
        "outputId": "974367bb-c2e9-42e3-b53f-25b930f56b79"
      },
      "outputs": [
        {
          "name": "stdout",
          "output_type": "stream",
          "text": [
            "[[363337, 0.17530043], [358988, 0.1666941], [364626, 0.15636669], [361145, 0.14563857], [358005, 0.13293348], [358457, 0.1297754], [357510, 0.12756294], [355198, 0.12202708], [355633, 0.121297345], [356628, 0.120788], [361299, 0.11613604], [361569, 0.11480286], [353084, 0.10816047], [353872, 0.107232906], [353566, 0.10686824], [353582, 0.10650947], [356388, 0.106335245], [360041, 0.106335245], [364698, 0.1047027], [363033, 0.100562796], [361011, 0.09870499], [360839, 0.09808823], [352501, 0.097785465], [354449, 0.09722119], [357098, 0.09562195], [364223, 0.09480139], [355801, 0.09192406], [363168, 0.09166245], [361303, 0.08876661], [358467, 0.08730461], [358235, 0.086821206], [353413, 0.08635598], [364332, 0.079964735], [355724, 0.07977168], [362483, 0.079552226], [359384, 0.078546524], [354814, 0.07747777], [357788, 0.07692047], [363446, 0.07601278], [354045, 0.074970625], [358229, 0.07462394], [352700, 0.07380451], [354143, 0.07341481], [353494, 0.07308405], [364633, 0.07308254], [358842, 0.071609914], [361861, 0.07084244], [360997, 0.07074834], [360846, 0.07005958], [362461, 0.06991168], [364447, 0.069757104], [364035, 0.069250785], [358026, 0.06881544], [356602, 0.06875339], [358281, 0.06760645], [363588, 0.06691891], [359370, 0.065800644], [363136, 0.06573133], [361711, 0.065508075], [364460, 0.065210834], [359499, 0.0650424], [361140, 0.06503855], [354431, 0.06421108], [360598, 0.06362066], [364333, 0.06310106], [357448, 0.062873915], [364673, 0.06276755], [363764, 0.062489867], [357870, 0.062285565], [364304, 0.062088028], [358984, 0.061904613], [364699, 0.061609026], [363738, 0.060889386], [359495, 0.060694303], [361025, 0.060315263], [363771, 0.059767637], [362223, 0.058778495], [364724, 0.058778495], [355667, 0.058483522], [362723, 0.058018845], [362851, 0.05797823], [357322, 0.05775386], [360562, 0.057738993], [364036, 0.056926858], [357869, 0.05664668], [357447, 0.056335103], [363160, 0.05612737], [360400, 0.055823695], [356779, 0.055775847], [356249, 0.055676546], [359785, 0.055676546], [359853, 0.055211697], [355558, 0.054639015], [363284, 0.054586604], [355810, 0.054441288], [363753, 0.054272484], [359135, 0.054039035], [358721, 0.054028176], [362207, 0.053954672], [363757, 0.053927924], [363307, 0.053865246], [355795, 0.05344161], [364033, 0.05266994], [360646, 0.052556556], [354218, 0.050832797], [357347, 0.050796356], [358252, 0.050538052], [361291, 0.05049437], [360601, 0.050475348], [362488, 0.050475348], [364169, 0.050217967], [354652, 0.05012461], [359536, 0.04951108], [365001, 0.049455132], [364994, 0.04942965], [355090, 0.04937276], [364311, 0.049238004], [358248, 0.048923068], [359365, 0.04890259], [358228, 0.048800696], [358453, 0.048766423], [361998, 0.048459373], [362725, 0.048373934], [352816, 0.048015416], [354254, 0.047497164], [359377, 0.047364634], [354047, 0.047004335], [353072, 0.046956602], [355222, 0.046112314], [362003, 0.04606452], [355395, 0.045574307], [360843, 0.0453899], [353059, 0.04535489], [352704, 0.045302026], [358454, 0.0452904], [354962, 0.045004033], [362468, 0.044568308], [352859, 0.04456167], [360402, 0.044285692], [354603, 0.04415101], [362853, 0.04408995], [363153, 0.04393366], [364032, 0.043616638], [359675, 0.043509293], [358471, 0.04343275], [360396, 0.043143485], [358458, 0.04307078], [360847, 0.042887416], [357313, 0.0428446], [355570, 0.042721827], [354452, 0.042466648], [364031, 0.042332247], [361617, 0.042125557], [358233, 0.04209116], [355413, 0.042066433], [353213, 0.04152766], [363346, 0.041451283], [360075, 0.041432727], [362175, 0.041284885], [361124, 0.04094338], [357288, 0.04079719], [359487, 0.040473707], [361552, 0.040307164], [357108, 0.039255623], [353550, 0.03899416], [364631, 0.038730904], [361295, 0.038706146], [354670, 0.03840197], [357871, 0.038363326], [359854, 0.038118787], [364983, 0.03754039], [357702, 0.037528157], [357095, 0.037226036], [359382, 0.036990996], [356749, 0.036749963], [358464, 0.036655437], [363143, 0.036608882], [364721, 0.036446203], [356183, 0.036394738], [359852, 0.036394738], [364986, 0.036387723], [359771, 0.036370113], [356225, 0.036370113], [356065, 0.036326807], [359668, 0.036326807], [361118, 0.036070254], [364307, 0.035967976], [364321, 0.035748694], [358626, 0.0357006], [361547, 0.035024695], [361551, 0.034985054], [363155, 0.034926135], [353847, 0.03417799], [359143, 0.03410982], [358237, 0.034002025], [355429, 0.0339769], [354968, 0.033503212], [355201, 0.033487882], [363759, 0.033396225], [357068, 0.033378247], [359673, 0.03332394], [356411, 0.032994937], [360066, 0.032994937], [355196, 0.032882873], [355347, 0.032624867], [364728, 0.032611355], [362127, 0.032517504], [354569, 0.03250874], [355755, 0.032225538], [363130, 0.032097492], [357094, 0.032075863], [353556, 0.031899165], [360090, 0.03175606], [356017, 0.031752508], [359608, 0.031752508], [364495, 0.03174836], [358466, 0.03167252], [357128, 0.03165933], [363788, 0.031620316], [363696, 0.03140594], [358232, 0.03133175], [357304, 0.031191295], [354258, 0.031103814], [356630, 0.031059826], [363129, 0.03102514], [356632, 0.030977758], [357287, 0.030846227], [362132, 0.030798346], [356781, 0.030714234], [355759, 0.03056097], [361836, 0.030381102], [364926, 0.029931199], [360600, 0.029575862], [364452, 0.029567009], [357883, 0.029516716], [356413, 0.029509267], [360069, 0.029509267], [360065, 0.029245932], [363756, 0.029245932], [361867, 0.029045673], [362131, 0.028966323], [359134, 0.028637718], [358481, 0.028525678], [364612, 0.028243579], [357103, 0.028139604], [358066, 0.028108696], [363697, 0.027846258], [360294, 0.02776214], [352329, 0.027627677], [362858, 0.0275713], [355436, 0.027397776], [360951, 0.02738798], [360730, 0.027156997], [355751, 0.02700482], [364628, 0.026977127], [358036, 0.026707232], [353586, 0.02665086], [361018, 0.026578391], [361442, 0.026570356], [352497, 0.026522797], [352870, 0.026441306], [355091, 0.026424276], [357715, 0.026179733], [355794, 0.026151039], [358260, 0.025692519], [364603, 0.025662519], [354260, 0.025517385], [359831, 0.025468225], [361986, 0.025383582], [355418, 0.025330076], [361408, 0.025255047], [362144, 0.025241645], [364993, 0.025104675], [354826, 0.024722455], [359494, 0.02467311], [364788, 0.02464273], [357474, 0.024558011], [355156, 0.024547767], [357858, 0.0243687], [361263, 0.02431065], [354435, 0.024153417], [362586, 0.02414241], [354022, 0.024136536], [358983, 0.024072893], [361437, 0.024068909], [356639, 0.024009326], [364314, 0.023986632], [364976, 0.023958232], [362727, 0.02387524], [355559, 0.023760416], [359498, 0.023729118], [363455, 0.023727855], [362002, 0.02361542], [353227, 0.023594843], [353065, 0.023593659], [361545, 0.023572622], [355403, 0.023513382], [364454, 0.023511533], [355761, 0.023407836], [358067, 0.023394307], [358044, 0.023328954], [363900, 0.023328954], [357081, 0.023305422], [355382, 0.023108669], [364599, 0.02301967], [357079, 0.022917703], [363124, 0.02281307], [357112, 0.02276568], [360563, 0.022758901], [364963, 0.022739628], [361566, 0.022701977], [356617, 0.02258657], [362451, 0.022561403], [354667, 0.022560477], [353376, 0.022550397], [354804, 0.022427734], [352344, 0.022380587], [361550, 0.022223277], [353568, 0.022221837], [357222, 0.022133302], [359469, 0.022120401], [358621, 0.022052051], [364458, 0.02202004], [360282, 0.021998137], [363918, 0.021956889], [355827, 0.021839274], [358463, 0.021830883], [355756, 0.021798715], [359227, 0.021785963], [353083, 0.021712884], [358421, 0.021697262], [357705, 0.021685306], [359131, 0.02166488], [354048, 0.021643799], [353848, 0.021488877], [364705, 0.021468397], [357509, 0.021427706], [358443, 0.021398725], [352249, 0.021362202], [352343, 0.021260407], [364778, 0.021126814], [360287, 0.021041349], [354795, 0.021040808], [355673, 0.021025026], [361285, 0.02097263], [353407, 0.020843362], [363767, 0.020810805], [361857, 0.020722948], [355776, 0.020661118], [362151, 0.020596258], [358459, 0.02053873], [353835, 0.020446425], [355428, 0.020442361], [362171, 0.02033828], [361298, 0.020243352], [355808, 0.020213578], [354256, 0.020198196], [356638, 0.020173822], [362125, 0.020127062], [362458, 0.020087214], [363345, 0.020081816], [364189, 0.020037305], [362298, 0.020026935], [360072, 0.01988023], [358568, 0.019876547], [357101, 0.019631818], [360269, 0.019625641], [364999, 0.019623673], [360597, 0.01953802], [355166, 0.019458167], [355417, 0.019182973], [352699, 0.019095682], [364779, 0.019059505], [354428, 0.019057576], [359247, 0.018920984], [354973, 0.018897949], [357058, 0.018860273], [360591, 0.018772235], [353172, 0.018759701], [357286, 0.018630309], [357527, 0.018561916], [357092, 0.01854551], [356052, 0.018438866], [359650, 0.018438866], [358592, 0.018437037], [361835, 0.018423783], [356403, 0.01839759], [360058, 0.01839759], [353578, 0.018317852], [359653, 0.018306522], [356055, 0.018306522], [362848, 0.018265493], [361459, 0.01803058], [354942, 0.01797279], [357324, 0.017956428], [364319, 0.01790831], [356409, 0.017842613], [360064, 0.017842613], [354820, 0.017649911], [357526, 0.017625406], [352508, 0.017563935], [352522, 0.01754798], [358725, 0.01747834], [358059, 0.01743635], [357700, 0.017373743], [354792, 0.017362725], [357091, 0.017273251], [362208, 0.017234158], [355557, 0.01718414], [363896, 0.017181588], [352493, 0.017020576], [364734, 0.017016469], [361128, 0.016992621], [362934, 0.016978122], [360567, 0.016943203], [364179, 0.016934097], [357668, 0.01675382], [356569, 0.016677007], [357297, 0.016672684], [363322, 0.016662447], [354947, 0.01659995], [360226, 0.016583025], [353248, 0.016545378], [354930, 0.016542135], [358410, 0.016524054], [358624, 0.016401177], [358480, 0.016231293], [356624, 0.016156564], [359385, 0.01609974], [354459, 0.016069984], [363754, 0.016047094], [361146, 0.016024996], [360594, 0.01596991], [363320, 0.015876161], [353385, 0.015843078], [354939, 0.015824063], [357885, 0.015721224], [360979, 0.015610033], [357482, 0.015588133], [364695, 0.015587839], [354054, 0.015487594], [358833, 0.0154690845], [358442, 0.015466624], [364640, 0.015414251], [362918, 0.015396689], [356966, 0.01537579], [361137, 0.015338989], [355563, 0.015151804], [363158, 0.015132882], [359220, 0.015049222], [364689, 0.0150066195], [364718, 0.014953237], [363149, 0.014908744], [355181, 0.014640909], [356859, 0.014620959], [356565, 0.014471827], [360593, 0.014444797], [359828, 0.0143100545], [356165, 0.0143100545], [353545, 0.014245783], [359603, 0.014205275], [360281, 0.014176245], [361024, 0.014108266], [361575, 0.014064598], [362246, 0.014061261], [364182, 0.014055939], [361234, 0.014051777], [362220, 0.014049928], [355193, 0.013924728], [355420, 0.013911292], [357064, 0.013864861], [362891, 0.013857437], [360954, 0.013856049], [352332, 0.013853079], [354177, 0.013837427], [354443, 0.013820135], [358846, 0.013746884], [357490, 0.013738902], [363863, 0.013686883], [353209, 0.013639446], [352253, 0.013621085], [356608, 0.013614392], [362480, 0.0136050265], [363895, 0.0135537945], [358239, 0.013536077], [362479, 0.013528445], [360263, 0.013460503], [364767, 0.013357505], [357888, 0.013297097], [359222, 0.013253637], [363276, 0.0132327685], [359954, 0.0132054435], [356311, 0.0132054435], [355884, 0.013183625], [354679, 0.013169136], [355458, 0.013124569], [356386, 0.012881859], [360039, 0.012881859], [359376, 0.012869137], [363328, 0.012836565], [360251, 0.012819748], [361292, 0.012808588], [353201, 0.0127858715], [356756, 0.0127720665], [359737, 0.012689217], [356140, 0.012689217], [357295, 0.012688124], [360655, 0.012686582], [357319, 0.012662535], [359491, 0.012652899], [363905, 0.012546822], [358157, 0.012540916], [358006, 0.012493829], [360034, 0.012493482], [364715, 0.012459424], [356420, 0.012422861], [360077, 0.012422861], [359607, 0.012408945], [356016, 0.012408945], [362869, 0.012357429], [361269, 0.012329972], [360029, 0.012320012], [355677, 0.012270154], [354810, 0.012240802], [354421, 0.012206798], [355780, 0.012206798], [360053, 0.012206798], [356399, 0.012206798], [358432, 0.012205776], [352494, 0.0121821165], [352670, 0.012092511], [362176, 0.012090232], [364703, 0.012082478], [355816, 0.012039586], [358616, 0.011977903], [356304, 0.011975443], [359946, 0.011975443], [357209, 0.011941007], [360230, 0.011926694], [360293, 0.011910964], [364470, 0.0118437195], [358431, 0.011792137], [360286, 0.011752318], [363584, 0.011563996], [364135, 0.011560873], [361860, 0.011532405], [361150, 0.01152067], [364048, 0.011504765], [360516, 0.011476309], [353077, 0.011472008], [355549, 0.011455538], [361000, 0.011404455], [360923, 0.011352393], [354824, 0.01129615], [354673, 0.011291911], [363906, 0.011272635], [360254, 0.011257174], [357466, 0.01121911], [352503, 0.011214229], [364011, 0.011180398], [357498, 0.011179253], [363712, 0.011170891], [352342, 0.011134448], [359656, 0.011126309], [363338, 0.011085691], [360991, 0.011085216], [353571, 0.011055189], [364467, 0.011034002], [357709, 0.011011587], [357493, 0.010993209], [358046, 0.010977372], [362285, 0.010959447], [364320, 0.010944422], [361277, 0.010904132], [361845, 0.010904132], [362955, 0.010887292], [358911, 0.0108515145], [359762, 0.010799366], [356216, 0.010799366], [363682, 0.010772126], [354662, 0.01077172], [352337, 0.010753226], [363459, 0.010708144], [355793, 0.010688432], [358268, 0.010666445], [356606, 0.010659418], [364678, 0.010601314], [358192, 0.010578895], [355183, 0.0105747385], [363157, 0.010537306], [360577, 0.010531799], [357089, 0.010515632], [357124, 0.010513831], [361141, 0.010501224], [358622, 0.010461813], [359633, 0.010459635], [357521, 0.010447049], [362296, 0.010405579], [363036, 0.010384393], [359468, 0.010348301], [359130, 0.010323494], [364995, 0.010314319], [361863, 0.010259669], [352874, 0.010164973], [360582, 0.0101551], [356612, 0.010133066], [360590, 0.010125932], [360789, 0.010099927], [357874, 0.010090591], [359648, 0.010088186], [359858, 0.010081389], [356188, 0.010081389], [361706, 0.010074182], [352316, 0.01006184], [362701, 0.010052648], [361856, 0.009999433], [362147, 0.009966693], [354959, 0.0099461805], [358600, 0.009878027], [354014, 0.009872069], [363740, 0.009833528], [364702, 0.009791728], [361999, 0.009756893], [357506, 0.0097232405], [355734, 0.009720398], [358001, 0.009715309], [358602, 0.009664336], [364315, 0.009663406], [359681, 0.009540172], [362872, 0.009515589], [359201, 0.009506668], [355171, 0.009401219], [357077, 0.009381948], [363467, 0.009372455], [361865, 0.009364583], [356372, 0.009322948], [360018, 0.009322948], [355411, 0.009322239], [353549, 0.009316753], [362926, 0.009297201], [363774, 0.0092876535], [353865, 0.009274802], [354263, 0.009209418], [355787, 0.009203811], [356959, 0.009186864], [355770, 0.0091641825], [359856, 0.009027221], [356186, 0.009027221], [361843, 0.008949358], [361827, 0.008871758], [356784, 0.008867981], [360592, 0.008865424], [352691, 0.008863171], [355565, 0.008825784], [362153, 0.008810788], [353589, 0.008804412], [357887, 0.008776839], [357259, 0.008756941], [357706, 0.008752112], [364687, 0.008748344], [358723, 0.008747025], [363751, 0.008720292], [360271, 0.008702269], [352302, 0.008688113], [355523, 0.008682763], [358223, 0.008666825], [356736, 0.008662688], [363034, 0.008661357], [358620, 0.008641048], [355909, 0.008618966], [357670, 0.00861703], [356790, 0.008601147], [357223, 0.008597223], [353864, 0.008571227], [362225, 0.00852163], [360566, 0.008519737], [355740, 0.008460486], [355384, 0.008380873], [353540, 0.008351591], [360575, 0.008343784], [356644, 0.008339071], [354661, 0.008338522], [364455, 0.008332831], [357341, 0.008309289], [354938, 0.008300429], [354447, 0.008271856], [352254, 0.008270565], [364739, 0.008232492], [359255, 0.008132487], [358981, 0.008116118], [357688, 0.008080186], [361012, 0.008074505], [364775, 0.008072794], [360094, 0.008029141], [359400, 0.0079951165], [364044, 0.007973728], [363780, 0.007969336], [360654, 0.007910614], [364172, 0.007900045], [358040, 0.007897033], [361166, 0.007888487], [354027, 0.007866257], [361864, 0.007796089], [357107, 0.0076866257], [358451, 0.007637275], [357302, 0.0076363105], [357221, 0.007611054], [363341, 0.0075616916], [364493, 0.0075271064], [354401, 0.007447745], [354618, 0.007435668], [363868, 0.007374987], [363282, 0.007365623], [354470, 0.007193304], [353561, 0.0071928957], [364193, 0.007182817], [355731, 0.0071770754], [355737, 0.0071529443], [359116, 0.007147535], [358844, 0.007147132], [354807, 0.007128921], [363684, 0.007127048], [353825, 0.007125368], [363138, 0.0070627388], [354759, 0.0070376927], [362230, 0.0070113866], [358726, 0.006979932], [357497, 0.0069221174], [362930, 0.0069189453], [358604, 0.006882982], [362450, 0.00688218], [364163, 0.006879362], [355501, 0.006878743], [359654, 0.0068582217], [352696, 0.0068340544], [354573, 0.0068294182], [358974, 0.006824485], [354818, 0.00680347], [360609, 0.0067882086], [357320, 0.006766975], [358769, 0.006678996], [358736, 0.006676431], [355188, 0.0066693416], [355146, 0.0066566137], [361851, 0.0066484967], [355775, 0.006636905], [355806, 0.0066222744], [354801, 0.006608092], [356629, 0.006599099], [360849, 0.0065880176], [362241, 0.006586198], [353399, 0.0065823807], [363773, 0.0065640374], [362733, 0.006554781], [352872, 0.0065448214], [356614, 0.006527368], [357682, 0.006526827], [360393, 0.0065221256], [361261, 0.006519435], [355389, 0.006489561], [354245, 0.006481609], [360391, 0.006480931], [362486, 0.006472974], [360955, 0.006469473], [360406, 0.0064126714], [355800, 0.0064070835], [352692, 0.0063915816], [356214, 0.0063841846], [359759, 0.0063841846], [364480, 0.0063538454], [360825, 0.0063368254], [360081, 0.0063356007], [356424, 0.0063356007], [363902, 0.006323961], [352320, 0.0062777656], [357233, 0.00627558], [356792, 0.00627376], [361129, 0.006221287], [354238, 0.006216315], [364496, 0.0062148427], [362855, 0.0062096375], [352309, 0.006203676], [355519, 0.006201895], [352685, 0.006198084], [364041, 0.006189584], [361570, 0.0061731623], [356187, 0.0061631827], [359857, 0.0061631827], [360468, 0.0061464636], [353890, 0.006143482], [359925, 0.006120907], [356288, 0.006120907], [359477, 0.006074346], [356774, 0.006064209], [361294, 0.006060181], [357488, 0.006058231], [359084, 0.0060496754], [360513, 0.005997737], [365073, 0.005995781], [360649, 0.0059623457], [355426, 0.005960837], [354629, 0.005926744], [357274, 0.0058735656], [364184, 0.005872324], [356605, 0.0058596022], [363571, 0.0058192946], [357567, 0.005818172], [352495, 0.0058153123], [364303, 0.005788075], [358960, 0.005779693], [354658, 0.005741401], [361302, 0.005741374], [352331, 0.0057155215], [354220, 0.005693841], [354430, 0.005691614], [355204, 0.005689491], [361559, 0.0056649423], [364643, 0.005663245], [354448, 0.005659594], [362136, 0.00563883], [357882, 0.005635249], [356745, 0.005631176], [353592, 0.005578994], [354967, 0.005570128], [360233, 0.0055354456], [362929, 0.005519143], [363020, 0.0055121197], [358256, 0.0055023287], [364020, 0.005499556], [354799, 0.005486394], [355150, 0.0054715574], [354471, 0.0054677445], [362449, 0.0054599713], [358227, 0.005447053], [358993, 0.0054423353], [361859, 0.0054348786], [354596, 0.005369005], [352557, 0.0053625433], [360559, 0.005337025], [360288, 0.005332795], [358193, 0.005320259], [358037, 0.005319704], [364023, 0.0053144684], [355814, 0.0053135254], [361778, 0.0053135254], [354235, 0.0053129457], [358610, 0.0052726683], [358054, 0.0052551785], [363909, 0.0052551785], [356068, 0.005238295], [357478, 0.005237972], [353560, 0.005237972], [364776, 0.005228202], [359481, 0.0052244184], [353234, 0.00521049], [358250, 0.005202254], [358975, 0.005196687], [362715, 0.0051930053], [362890, 0.0051781405], [353860, 0.0051718387], [355815, 0.005163301], [363336, 0.005162299], [364150, 0.005158084], [364484, 0.005154833], [361432, 0.0051387264], [357628, 0.0051372442], [361136, 0.0051124752], [360534, 0.0050926353], [358717, 0.0050697397], [359950, 0.0050694393], [362859, 0.005067991], [360833, 0.0050558466], [353851, 0.0050493893], [353198, 0.005048577], [363319, 0.0050435807], [355678, 0.005043143], [357692, 0.0050277268], [364295, 0.005023063], [362074, 0.0050194995], [360855, 0.005007492], [364780, 0.005006898], [354951, 0.0049911374], [360015, 0.004979259], [356369, 0.004979259], [362301, 0.0049790866], [359141, 0.004953539], [364670, 0.004944346], [360082, 0.0049412944], [356611, 0.004938714], [356765, 0.004885457], [352507, 0.0048597576], [359636, 0.004854537], [364462, 0.0048495843], [352819, 0.004843614], [364186, 0.0048418795], [355221, 0.00483079], [362203, 0.0048172036], [363776, 0.0048126546], [353178, 0.004752693], [359819, 0.004717955], [356156, 0.004717955], [356734, 0.004717955], [354669, 0.0047143023], [357066, 0.004708406], [359782, 0.004707702], [356246, 0.004707702], [362152, 0.0046948395], [359841, 0.0046947435], [356173, 0.0046947435], [357699, 0.0046881195], [356951, 0.0046763797], [361270, 0.004675108], [359373, 0.004663177], [355745, 0.004641978], [364485, 0.004641522], [361718, 0.0046357564], [358837, 0.004632206], [358214, 0.004631819], [358254, 0.004608072], [358989, 0.004598447], [357513, 0.004597044], [354813, 0.0045691705], [360589, 0.004566831], [363121, 0.0045607723], [357282, 0.0045561027], [365008, 0.0045426], [353032, 0.004542529], [361313, 0.004522434], [361574, 0.004515748], [356960, 0.0045025866], [352857, 0.0044950736], [358300, 0.004458511], [353247, 0.0044531906], [357717, 0.0044364706], [354675, 0.004436201], [362736, 0.0044287713], [355375, 0.00442817], [362717, 0.0044246735], [360046, 0.004399992], [355386, 0.0043853233], [361436, 0.0043716747], [361556, 0.004360651], [354612, 0.0043589803], [355178, 0.0043587657], [364109, 0.00434732], [364176, 0.004344077], [360231, 0.004340727], [363040, 0.0043367473], [363317, 0.0043295836], [358987, 0.004316782], [359244, 0.004313889], [357281, 0.0042923368], [359674, 0.004269552], [356594, 0.0042620073], [361296, 0.0042589325], [355397, 0.0042578527], [364667, 0.0042481073], [354756, 0.0042379233], [356119, 0.0042379233], [359731, 0.0042379233], [354672, 0.0042346003], [362866, 0.0042309547], [363746, 0.0042282515], [362871, 0.0042257104], [364475, 0.0042257104], [363730, 0.0042185755], [363261, 0.0042120083], [356387, 0.0042117825], [360040, 0.0042117825], [354262, 0.0042088917], [361989, 0.004208146], [361144, 0.004206328], [353200, 0.0041974937], [353074, 0.0041766693], [353220, 0.0041632364], [358470, 0.0041591027], [354819, 0.004130163], [357119, 0.004129922], [358847, 0.004115103], [357701, 0.0040810923], [360079, 0.0040760506], [356422, 0.0040760506], [355202, 0.0040703756], [356316, 0.004069948], [359961, 0.004069948], [358742, 0.0040647946], [355769, 0.004032966], [364030, 0.0040329625], [355555, 0.004027741], [358034, 0.0039997064], [354223, 0.003988581], [354453, 0.003986458], [356787, 0.003983647], [356944, 0.003981094], [357656, 0.0039782096], [354625, 0.003965985], [364978, 0.0039653615], [357216, 0.0039653555], [353518, 0.0039653555], [361580, 0.003961431], [353041, 0.0039579533], [364693, 0.0039357026], [356949, 0.0039226096], [360063, 0.003922261], [356408, 0.003922261], [355212, 0.003915865], [352683, 0.0039063315], [352871, 0.0039061015], [364251, 0.0038912059], [352660, 0.0038898713], [360820, 0.0038835614], [364323, 0.0038737953], [359398, 0.0038693673], [364961, 0.0038649163], [362219, 0.003861118], [360661, 0.0038546403], [363039, 0.0038546403], [354246, 0.0038518768], [354780, 0.0038468628], [357115, 0.003834827], [364203, 0.003833423], [363752, 0.0038257737], [360232, 0.0038077973], [358849, 0.0038074395], [356305, 0.0038066073], [359947, 0.0038066073], [354606, 0.0038018997], [357849, 0.0038014143], [353043, 0.0038005095], [364045, 0.0037993977], [360583, 0.0037950722], [355379, 0.003780295], [357866, 0.0037689698], [358258, 0.0037681176], [353045, 0.003766183], [363145, 0.0037635756], [355900, 0.0037531632], [360576, 0.0037513967], [363102, 0.00373958], [358444, 0.0037156406], [358946, 0.0037120816], [356789, 0.0036974032], [353047, 0.0036964056], [363167, 0.003695961], [355791, 0.0036852085], [361114, 0.003677052], [360596, 0.0036770066], [364478, 0.0036691069], [356180, 0.003666247], [359849, 0.003666247], [361837, 0.003664748], [360386, 0.0036600828], [358479, 0.003649134], [354007, 0.0036474664], [357519, 0.003646108], [358734, 0.0036427386], [361594, 0.0036425916], [355362, 0.0036408424], [358213, 0.0036357795], [363439, 0.0036345876], [353569, 0.003629675], [352880, 0.0035951806], [354619, 0.003593816], [358138, 0.0035897084], [355147, 0.0035861318], [363478, 0.0035793143], [356610, 0.0035781546], [363465, 0.0035645238], [364472, 0.0035623973], [353558, 0.0035543342], [355566, 0.0035524364], [357456, 0.003550948], [352476, 0.0035492866], [354616, 0.0035377902], [363146, 0.0035264767], [354798, 0.0035246676], [364753, 0.003521937], [357893, 0.0035186452], [355561, 0.0035163586], [354049, 0.0035067794], [364672, 0.0035056518], [359393, 0.0035016062], [363289, 0.0034637642], [362481, 0.0034530903], [359941, 0.0034204326], [356300, 0.0034204326], [358968, 0.0034166488], [355431, 0.0034155662], [355671, 0.003402425], [357093, 0.0034021854], [357693, 0.0033926296], [359253, 0.003383629], [355895, 0.003382426], [359339, 0.0033632242], [361822, 0.0033569406], [361456, 0.0033509745], [360062, 0.003342349], [356407, 0.003342349], [353855, 0.003337232], [361707, 0.0033336747], [364318, 0.0033326326], [355757, 0.0033278624], [352888, 0.003323609], [357303, 0.003314509], [354643, 0.003314509], [359657, 0.003314509], [356057, 0.003314509], [358048, 0.003314509], [361001, 0.003314509], [362226, 0.003314509], [355527, 0.0033064003], [354178, 0.0032994242], [361280, 0.0032908563], [363914, 0.0032792324], [352684, 0.0032790424], [353229, 0.0032749183], [353415, 0.0032680398], [360250, 0.003242929], [356195, 0.0032423956], [361015, 0.0032360402], [358828, 0.0032324814], [360645, 0.0032279736], [357441, 0.0032265563], [360998, 0.0032160578], [356968, 0.0032123774], [363755, 0.003209644], [357902, 0.0032083355], [355540, 0.0032071613], [364694, 0.003207137], [353879, 0.0032051178], [353383, 0.0031889009], [358455, 0.0031708407], [358977, 0.0031708407], [359483, 0.0031708407], [360584, 0.0031708407], [362473, 0.0031708407], [364675, 0.0031708407], [353823, 0.0031663147], [358061, 0.0031649093], [362463, 0.0031555148], [358456, 0.003154209], [360648, 0.0031490778], [352705, 0.0031395033], [354604, 0.0031279323], [357116, 0.0031268068], [353831, 0.0031235386], [354642, 0.00312025], [354836, 0.003115028], [357067, 0.0031023428], [364293, 0.0031010557], [353394, 0.0030817403], [355556, 0.0030683794], [361010, 0.0030643244], [352480, 0.0030612405], [353366, 0.003048912], [352305, 0.0030448113], [354432, 0.003042748], [358033, 0.0030409924], [358452, 0.0030385242], [355546, 0.0030320713], [353236, 0.0030319877], [358693, 0.003025238], [362472, 0.003023875], [359827, 0.0030186826], [363453, 0.0030153836], [357897, 0.003010657], [361262, 0.0030010582], [362247, 0.002996549], [363442, 0.0029959863], [363023, 0.0029959737], [357275, 0.00299061], [362478, 0.0029904677], [361565, 0.0029748387], [352488, 0.002973121], [355373, 0.0029664736], [352330, 0.0029645702], [355905, 0.0029589676], [356962, 0.0029589676], [363147, 0.0029583094], [357907, 0.0029407497], [356742, 0.0029369004], [353233, 0.0029325944], [361312, 0.002931571], [364309, 0.0029298116], [357904, 0.0029224993], [357712, 0.0029144138], [354778, 0.0029142005], [360814, 0.0029140094], [359851, 0.0029113228], [356182, 0.0029113228], [360225, 0.002904464], [363569, 0.002903198], [361709, 0.0028999932], [359369, 0.002898788], [359272, 0.002894896], [363898, 0.002894834], [356410, 0.0028945352], [361996, 0.0028880578], [353030, 0.0028879356], [355361, 0.0028879356], [356033, 0.0028879356], [359625, 0.0028879356], [356777, 0.0028862664], [360529, 0.0028741497], [358253, 0.0028732219], [354622, 0.002869698], [362101, 0.002859472], [354040, 0.0028523956], [353405, 0.0028510955], [353056, 0.0028478275], [353231, 0.0028409397], [358030, 0.002838211], [352280, 0.0028378842], [357455, 0.0028376319], [360652, 0.00283747], [359361, 0.0028352435], [359642, 0.00280464], [356045, 0.00280464], [358064, 0.00279981], [361849, 0.0027908178], [361705, 0.0027843758], [362724, 0.0027836955], [364996, 0.0027836955], [356776, 0.0027746167], [364898, 0.0027676865], [361152, 0.0027665156], [364592, 0.0027633037], [364302, 0.0027579921], [363441, 0.0027458838], [362864, 0.0027374823], [355548, 0.0027366048], [354446, 0.0027321463], [354978, 0.002726122], [359270, 0.0027062935], [353396, 0.0026858514], [354039, 0.0026855234], [359784, 0.0026839746], [356248, 0.0026839746], [356957, 0.0026796586], [355773, 0.002674565], [361273, 0.0026726755], [353861, 0.0026679337], [354821, 0.0026679337], [362154, 0.0026678587], [361463, 0.0026647535], [360572, 0.0026619912], [364047, 0.0026602447], [355380, 0.0026508386], [364743, 0.0026495657], [356484, 0.002643143], [360147, 0.002643143], [357841, 0.0026408653], [352651, 0.0026407887], [355812, 0.0026394024], [363161, 0.0026247357], [364706, 0.0026247357], [364316, 0.0026129023], [357502, 0.0026117046], [356014, 0.0026057034], [359605, 0.0026057034], [360249, 0.00260523], [364305, 0.0026036918], [356941, 0.0026001204], [355197, 0.0025960847], [355152, 0.0025955562], [361847, 0.002591778], [358733, 0.002589836], [364006, 0.0025884889], [352865, 0.0025777072], [352298, 0.002577359], [354842, 0.002573415], [357106, 0.00256885], [354790, 0.002561664], [354958, 0.002559014], [358282, 0.0025589021], [364200, 0.0025589021], [362735, 0.002551825], [364748, 0.0025516818], [355525, 0.002544178], [357817, 0.0025402894], [355402, 0.002538783], [358331, 0.0025278702], [364253, 0.0025278702], [354576, 0.002499273], [362734, 0.0024903906], [355364, 0.0024897854], [354668, 0.0024884003], [357856, 0.0024718705], [361577, 0.0024713366], [357852, 0.0024646607], [360976, 0.0024629263], [352654, 0.0024564667], [355567, 0.0024471288], [358430, 0.002430254], [362914, 0.0024218422], [364488, 0.0024168636], [354234, 0.0024155257], [355378, 0.0024062733], [358197, 0.0024018486], [353051, 0.0023988765], [356120, 0.0023979226], [359732, 0.0023979226], [356911, 0.002396903], [358172, 0.0023933928], [364167, 0.0023933928], [357445, 0.0023854328], [363032, 0.002382898], [359391, 0.0023792847], [359777, 0.0023788717], [353243, 0.002376866], [353885, 0.002376866], [354850, 0.002376866], [355911, 0.002376866], [356313, 0.002376866], [359956, 0.002376866], [356969, 0.002376866], [353403, 0.0023740726], [355521, 0.0023735904], [363763, 0.002372026], [360842, 0.0023659854], [358199, 0.0023636816], [359390, 0.0023613002], [355729, 0.0023582915], [355716, 0.0023398506], [358273, 0.002339744], [364196, 0.002339744], [359945, 0.002335227], [356303, 0.002335227], [363580, 0.0023332883], [361160, 0.002330925], [354211, 0.002329493], [354607, 0.0023291681], [353843, 0.0023224861], [361828, 0.0023091699], [357290, 0.0022996694], [363339, 0.0022972582], [354024, 0.002295414], [358569, 0.0022796406], [358601, 0.0022785454], [353033, 0.0022770683], [357889, 0.0022758404], [355917, 0.0022719328], [361306, 0.0022704124], [362850, 0.0022607667], [353875, 0.002259815], [361721, 0.0022567518], [355705, 0.0022539417], [358276, 0.002245907], [357291, 0.002241848], [365004, 0.0022413074], [363590, 0.0022345027], [356307, 0.0022324817], [354261, 0.0022244195], [353888, 0.00221715], [358144, 0.0022136075], [363472, 0.0022132548], [360581, 0.0022115612], [363131, 0.002207167], [355538, 0.0022071472], [361290, 0.0022062904], [356950, 0.0022018314], [360278, 0.0021988195], [355725, 0.00219135], [355215, 0.0021890712], [355822, 0.0021890712], [356429, 0.0021890712], [360088, 0.0021890712], [357122, 0.0021890712], [361433, 0.0021784552], [358211, 0.0021767728], [361278, 0.0021754557], [356179, 0.0021747632], [359848, 0.0021747632], [355753, 0.0021730578], [363123, 0.0021684337], [364597, 0.0021684337], [360264, 0.0021679343], [364709, 0.0021604616], [354565, 0.0021576919], [359860, 0.0021569468], [356601, 0.0021476971], [353587, 0.002145398], [352858, 0.0021430464], [356753, 0.0021394824], [353867, 0.002136466], [359500, 0.0021307291], [356050, 0.0021249582], [359647, 0.0021249582], [354413, 0.002121615], [356421, 0.0021215726], [360078, 0.0021215726], [359626, 0.002120518], [356034, 0.002120518], [354229, 0.0021162643], [353878, 0.002116235], [353541, 0.0021103134], [356637, 0.0021102019], [360653, 0.0021029136], [352693, 0.0020928532], [354013, 0.0020852399], [352877, 0.0020728644], [358195, 0.002070881], [355792, 0.002069102], [364148, 0.002060243], [359268, 0.0020588015], [357109, 0.0020585319], [352876, 0.0020577142], [363480, 0.0020555328], [354465, 0.0020535432], [352710, 0.0020500936], [356418, 0.002034879], [360074, 0.002034879], [364012, 0.0020321405], [357442, 0.0020295186], [358220, 0.0020262182], [354613, 0.0020237784], [356932, 0.0020224901], [357489, 0.0020146365], [362243, 0.0020129776], [361162, 0.002010103], [360409, 0.002009187], [354828, 0.0019989384], [355772, 0.0019989384], [354971, 0.00199536], [353870, 0.0019943272], [362469, 0.0019899767], [356953, 0.0019880864], [355203, 0.001980445], [355899, 0.0019696145], [357100, 0.0019600703], [356757, 0.001958475], [363770, 0.0019530635], [361266, 0.0019514784], [357261, 0.0019472436], [362800, 0.0019361419], [354928, 0.0019310823], [352487, 0.0019226164], [356783, 0.0019159967], [364008, 0.0018929582], [361690, 0.0018908961], [354854, 0.0018905787], [357848, 0.0018811381], [363288, 0.0018783521], [354855, 0.0018732481], [362273, 0.0018648328], [358462, 0.0018638754], [359389, 0.0018634072], [354966, 0.0018604083], [355434, 0.0018572198], [356075, 0.0018572198], [359680, 0.0018572198], [356642, 0.0018572198], [358071, 0.0018572198], [363923, 0.0018572198], [354442, 0.0018543907], [361147, 0.0018539663], [364692, 0.0018495586], [362941, 0.0018471824], [364686, 0.001846321], [357086, 0.0018450262], [357862, 0.00184369], [357300, 0.0018434778], [359110, 0.0018428032], [363154, 0.0018350965], [363477, 0.0018321074], [362470, 0.0018313053], [360388, 0.0018276871], [356588, 0.0018264002], [360553, 0.0018262385], [352484, 0.001825207], [358264, 0.0018208001], [355748, 0.0018173108], [352307, 0.0018151704], [359863, 0.0018125742], [356189, 0.0018125742], [363886, 0.0018081152], [363479, 0.0018079696], [353080, 0.0017941797], [361581, 0.0017928317], [360854, 0.0017862506], [359610, 0.0017608192], [356018, 0.0017608192], [355179, 0.0017591311], [357695, 0.0017562681], [362155, 0.0017562404], [353241, 0.0017533738], [359132, 0.0017453074], [360401, 0.0017453074], [364639, 0.0017446887], [360588, 0.0017326913], [359142, 0.0017250067], [354817, 0.0017167013], [360085, 0.001714067], [356426, 0.001714067], [354417, 0.0017082577], [357671, 0.0017071139], [362925, 0.0017065598], [357676, 0.0016961003], [357321, 0.0016961003], [356384, 0.0016961003], [360037, 0.0016961003], [356763, 0.0016961003], [358207, 0.0016961003], [358212, 0.0016961003], [360827, 0.0016961003], [364729, 0.0016961003], [362233, 0.0016842898], [358819, 0.0016841454], [359837, 0.0016694799], [360985, 0.0016694719], [363476, 0.0016668759], [358970, 0.0016636971], [354911, 0.0016608238], [352492, 0.0016544572], [357285, 0.0016525593], [356771, 0.0016448043], [353868, 0.0016427195], [361826, 0.0016423793], [352291, 0.0016416548], [354595, 0.0016402142], [359126, 0.0016401142], [356599, 0.0016293374], [364165, 0.0016293118], [363304, 0.0016263988], [362015, 0.0016194823], [354061, 0.0016180351], [358298, 0.0016159074], [361158, 0.0016121992], [357318, 0.0016113021], [354609, 0.0016112607], [354628, 0.0016067972], [364312, 0.0016045537], [356037, 0.0016029236], [354044, 0.0016018801], [365009, 0.0015934744], [356890, 0.0015825182], [358029, 0.0015809023], [353388, 0.0015779397], [355545, 0.0015779397], [364299, 0.0015779397], [364666, 0.0015779397], [359223, 0.0015778323], [362490, 0.0015762938], [352470, 0.0015738342], [361715, 0.0015729055], [357892, 0.0015728815], [363137, 0.0015719219], [360651, 0.0015713412], [357485, 0.0015667896], [353166, 0.001562368], [352301, 0.001561], [356600, 0.0015566829], [361698, 0.0015566472], [360292, 0.0015561545], [357292, 0.0015533083], [357661, 0.0015498106], [356221, 0.0015491173], [359768, 0.0015491173], [360521, 0.0015433679], [361445, 0.0015411613], [360989, 0.0015393998], [354226, 0.0015343803], [357457, 0.0015322516], [356918, 0.0015265065], [357471, 0.001521], [354935, 0.0015187011], [361117, 0.001515432], [355168, 0.001513019], [356220, 0.0015118279], [359767, 0.0015118279], [355915, 0.0015116243], [360049, 0.0015094035], [356395, 0.0015094035], [358178, 0.0015066133], [361133, 0.0015066133], [357507, 0.0015042259], [364015, 0.0015027856], [358242, 0.0015013374], [364464, 0.0014985693], [354402, 0.001497098], [359269, 0.0014931323], [354831, 0.0014806533], [358472, 0.0014783969], [355424, 0.0014648667], [362284, 0.0014648667], [357484, 0.0014609249], [352465, 0.0014573552], [352686, 0.0014570922], [355532, 0.0014555632], [357090, 0.0014542858], [353416, 0.0014512616], [358206, 0.0014512616], [361008, 0.0014505051], [361287, 0.0014484029], [361855, 0.0014484029], [362477, 0.0014484029], [363152, 0.0014484029], [352520, 0.0014481085], [359263, 0.0014461736], [360273, 0.0014461736], [361003, 0.0014461736], [361450, 0.0014461736], [362227, 0.0014461736], [364735, 0.0014461736], [356795, 0.0014456875], [358835, 0.0014385983], [352658, 0.0014374733], [364261, 0.0014351248], [356070, 0.0014346506], [361020, 0.0014346506], [355542, 0.00142648], [353404, 0.0014219276], [356884, 0.0014204525], [359340, 0.0014204525], [363583, 0.0014143384], [363038, 0.0014138173], [360492, 0.0013916615], [357658, 0.0013911003], [354944, 0.0013882853], [357278, 0.0013872101], [358063, 0.0013837017], [364770, 0.0013837017], [364717, 0.0013784899], [355901, 0.001371614], [360990, 0.0013659124], [358605, 0.0013652614], [357294, 0.0013621236], [362214, 0.0013612211], [357850, 0.0013542197], [358438, 0.0013525847], [364286, 0.0013525847], [354630, 0.0013501348], [353833, 0.0013493745], [354834, 0.0013385465], [355522, 0.0013348013], [361689, 0.0013298139], [363695, 0.0013282291], [364624, 0.0013260563], [358280, 0.0013254781], [355916, 0.0013248603], [356315, 0.0013248603], [359960, 0.0013248603], [358482, 0.0013229437], [357861, 0.0013211815], [352886, 0.0013165477], [358593, 0.0013157924], [355404, 0.0013119483], [355789, 0.0013104522], [361592, 0.0013083266], [362149, 0.0013030359], [364190, 0.0013005801], [360556, 0.0012985639], [354970, 0.0012950136], [356245, 0.0012943737], [359781, 0.0012943737], [360260, 0.0012890926], [357314, 0.0012883892], [354415, 0.0012864261], [352680, 0.00128536], [358708, 0.0012810786], [364022, 0.001268835], [354847, 0.0012637086], [363862, 0.0012611744], [356054, 0.0012594092], [359652, 0.0012594092], [361143, 0.0012561171], [353579, 0.0012507306], [357525, 0.0012390817], [358850, 0.0012355308], [354407, 0.0012355173], [355679, 0.0012355173], [356390, 0.0012355173], [360043, 0.0012355173], [357069, 0.0012355173], [358434, 0.0012355173], [364669, 0.0012318094], [354853, 0.001229441], [360395, 0.0012279308], [359371, 0.0012156924], [358980, 0.0012078868], [359488, 0.0012078868], [356634, 0.001202855], [362952, 0.001202855], [352715, 0.0012025922], [359113, 0.0012007876], [352312, 0.0011988425], [362860, 0.0011952912], [358222, 0.0011934271], [355392, 0.0011895479], [356405, 0.0011870284], [357084, 0.0011870284], [357458, 0.0011850196], [357475, 0.0011848509], [356314, 0.0011836715], [359959, 0.0011836715], [358956, 0.001176427], [359467, 0.001176427], [355155, 0.0011753954], [354633, 0.0011748441], [356044, 0.0011743781], [359639, 0.0011743781], [361710, 0.0011650787], [355376, 0.0011575999], [362287, 0.0011503448], [361576, 0.001142708], [354440, 0.0011406041], [362928, 0.0011319106], [353857, 0.0011305027], [356924, 0.0011298573], [353075, 0.0011228059], [362953, 0.0011202956], [364038, 0.0011188927], [360604, 0.0011113056], [356773, 0.0011108716], [356752, 0.0011098756], [364468, 0.0010887723], [354788, 0.001077151], [354950, 0.0010742705], [358841, 0.0010741154], [357905, 0.0010732076], [360279, 0.0010694565], [364479, 0.0010628352], [358008, 0.0010536757], [358740, 0.0010525354], [361589, 0.0010525354], [362242, 0.0010525354], [364201, 0.0010495126], [363315, 0.0010484648], [361006, 0.0010484493], [354943, 0.0010476321], [363916, 0.001045997], [358269, 0.0010445287], [364195, 0.0010445287], [364194, 0.0010424977], [360290, 0.001037259], [353386, 0.0010260923], [363128, 0.0010235625], [361308, 0.0010210284], [360812, 0.001017062], [361685, 0.001017062], [359658, 0.0010167089], [356058, 0.0010167089], [361002, 0.0010167089], [361446, 0.0010167089], [354837, 0.0010157649], [355182, 0.0010148648], [359362, 0.0010126401], [360387, 0.0010044469], [358834, 0.0010019519], [354663, 0.0009993484], [361460, 0.0009993484], [358265, 0.0009924996], [361848, 0.0009912986], [361021, 0.0009897202], [361282, 0.0009840783], [358836, 0.0009835478], [354239, 0.0009767328], [360011, 0.0009729981], [360558, 0.00096806954], [361431, 0.0009619577], [354423, 0.0009613402], [355216, 0.0009597707], [355123, 0.0009579203], [362916, 0.0009536272], [360786, 0.0009535258], [359638, 0.00094035635], [356043, 0.00094035635], [355388, 0.0009371682], [358709, 0.0009361887], [358625, 0.00093222916], [361692, 0.0009319529], [358996, 0.0009306153], [361314, 0.0009221494], [355813, 0.0009174984], [359260, 0.00091227685], [355762, 0.00090777536], [361720, 0.0009064267], [356306, 0.0009025791], [357499, 0.0008934801], [361286, 0.0008934801], [353596, 0.0008909103], [359507, 0.0008905847], [364252, 0.0008901915], [353054, 0.0008880676], [357327, 0.00088363414], [354212, 0.00088359043], [358588, 0.00088359043], [362005, 0.0008821586], [352282, 0.0008792736], [362245, 0.00087314926], [364751, 0.0008723218], [360810, 0.0008719586], [353359, 0.0008678036], [364191, 0.0008564701], [357237, 0.00085619715], [359506, 0.0008556336], [362823, 0.00085535436], [360235, 0.0008468844], [361976, 0.0008463354], [358216, 0.00084156665], [364964, 0.0008372196], [362142, 0.0008303429], [358731, 0.0008063844], [354468, 0.00080446876], [354796, 0.0008025393], [355741, 0.0008025393], [358167, 0.0008025393], [364601, 0.00080119254], [357468, 0.0007976423], [361284, 0.0007976423], [364610, 0.0007976423], [355672, 0.00079702045], [357307, 0.000789869], [352866, 0.00078590144], [356229, 0.00078590144], [359775, 0.00078590144], [357677, 0.000782684], [362174, 0.0007800221], [361866, 0.0007786805], [361123, 0.00077625643], [361839, 0.0007716605], [356746, 0.0007600283], [363866, 0.00075466593], [361028, 0.0007493193], [359774, 0.0007438641], [356228, 0.0007438641], [357863, 0.0007329984], [356589, 0.00072725053], [364722, 0.00072061445], [352472, 0.00070854696], [360610, 0.0007014952], [362824, 0.0006884775], [362947, 0.00068836496], [361854, 0.0006751161], [353205, 0.00066677254], [364289, 0.0006577611], [357262, 0.0006470907], [364278, 0.0006447972], [364977, 0.0005581447], [362895, 0.0005436253], [358808, 0.00053554284], [354015, 0.000496069], [359121, 0.00048268292], [355134, 0.0004279146], [352558, 0.0003713803]]\n",
            "3850\n",
            "3850\n"
          ]
        }
      ],
      "source": [
        "# Predict probability\n",
        "output = []\n",
        "\n",
        "# for i, _x in enumerate(random_search.predict_proba(test)):\n",
        "for i, _x in enumerate(best_model.predict_proba(test_set)):\n",
        "    output.append([test_keys['alert_key'].to_numpy()[i], _x[1]])\n",
        "output = sorted(output, reverse=True, key= lambda s: s[1])\n",
        "print(output)\n",
        "\n",
        "# 考慮private alert key部分，滿足上傳條件\n",
        "public_private_alert_key = sample_output['alert_key'].values\n",
        "print(len(public_private_alert_key))\n",
        "\n",
        "# For alert key not in public, add zeros\n",
        "for key in public_private_alert_key:\n",
        "  # print(key)\n",
        "  if key not in test_keys['alert_key'].to_numpy():\n",
        "    output.append([key, 0])\n",
        "\n",
        "print(len(output))\n",
        "\n",
        "predict_alert_key, predict_probability = [], []\n",
        "for key, prob in output:\n",
        "  predict_alert_key.append(key)\n",
        "  predict_probability.append(prob)\n",
        "\n",
        "df_predicted = pd.DataFrame({\n",
        "    \"alert_key\": predict_alert_key,\n",
        "    \"probability\": predict_probability\n",
        "})\n",
        "\n",
        "df_predicted.to_csv('prediction_baseline.csv', index=False)"
      ]
    }
  ],
  "metadata": {
    "colab": {
      "collapsed_sections": [
        "usz778TT95E6"
      ],
      "provenance": []
    },
    "gpuClass": "standard",
    "kernelspec": {
      "display_name": "Python 3",
      "language": "python",
      "name": "python3"
    },
    "language_info": {
      "codemirror_mode": {
        "name": "ipython",
        "version": 3
      },
      "file_extension": ".py",
      "mimetype": "text/x-python",
      "name": "python",
      "nbconvert_exporter": "python",
      "pygments_lexer": "ipython3",
      "version": "3.10.9"
    },
    "vscode": {
      "interpreter": {
        "hash": "b49938fd46af4c2460acbabba1f809b00ea4e6236b9ecf7044eb4c494b58c453"
      }
    }
  },
  "nbformat": 4,
  "nbformat_minor": 0
}
